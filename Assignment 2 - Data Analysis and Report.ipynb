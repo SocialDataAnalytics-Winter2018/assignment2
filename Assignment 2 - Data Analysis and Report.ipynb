{
 "cells": [
  {
   "cell_type": "markdown",
   "metadata": {},
   "source": [
    "# Assignment 2 - Data Analysis and Report\n",
    "\n",
    "In this project, you will work within a group of five people to write a short analytics report on a product, brand, or personality of your choice. For this project, you can choose to anaylze _any data source_, however, for ease, you should concentrate on a web-based source which you can import and analyze through `pandas`. You can use Twitter, some website or series of website, or some series of websites. You can also choose to use government-produced data, e.g. from [Open Canada](open.canada.ca).\n",
    "\n",
    "The project is due by beginning of the last class. You will need to turn in the report and the code you used to produce the report in a Jupyter Notebook."
   ]
  },
  {
   "cell_type": "markdown",
   "metadata": {},
   "source": [
    "### Specification\n",
    "\n",
    "The report should be about 1,000-2,000 words long. It should have four sections.\n",
    "\n",
    "1. Introduction\n",
    "2. Methods and Data\n",
    "3. Results\n",
    "4. Conclusion\n",
    "\n",
    "In the Introduction, you will be speaking with the voice of the role you are occupying. Why are you undertaking this data analysis? What are the variables you will use? What are the charts, tables, and statistics you will generate? \n",
    "\n",
    "In the Methods and Data section, you should include your code and analysis. You should include at least two graphs and at least two tables or data outputs (e.g. DataFrame displays) in the assignment.\n",
    "\n",
    "Lastly, you should have a Conclusion, which reframes the questions in the Introduction, rehashes the analysis, and then presents next steps forward. You should also discuss other kinds of analysis which could be done to support your initial conclusions.\n",
    "\n",
    "Your groups are mixed in terms of Python skill and, I hope, academic/professional background. This is typically how teams work in industry and government. There is a division of labour on who does what. Not everyone needs to write code, but I _still expect that everyone in the group understand and be able to describe what the code does_. \n",
    "\n",
    "In addition to turning in a zipped folder with your IPython Notebook and your data, each people in the group needs to write a short (200 words or less) description of what the code does in detail and what your responsibilities in producing the report were. Attach it as a text or a Microsoft Word file."
   ]
  },
  {
   "cell_type": "markdown",
   "metadata": {},
   "source": [
    "### Short example (yours will be longer)\n",
    "\n",
    "**Introduction**\n",
    "\n",
    "Apple, Microsoft, and Facebook are popular technology companies. It may be the case that we could predict [how well the company is doing from Twitter posts](https://www.sciencedirect.com/science/article/pii/S187775031100007X)."
   ]
  },
  {
   "cell_type": "markdown",
   "metadata": {},
   "source": [
    "**Methods and Data**\n",
    "\n",
    "To look into this, we collected a small sample of data on each of these companies. We wanted to compare how much attention each of them got."
   ]
  },
  {
   "cell_type": "code",
   "execution_count": 22,
   "metadata": {
    "collapsed": true
   },
   "outputs": [],
   "source": [
    "import json\n",
    "import re\n",
    "import pandas as pd\n",
    "import numpy as np\n",
    "\n",
    "import matplotlib.pyplot as plt\n",
    "%matplotlib inline"
   ]
  },
  {
   "cell_type": "code",
   "execution_count": 37,
   "metadata": {
    "collapsed": true
   },
   "outputs": [],
   "source": [
    "## ... code which collects Twitter data goes here ..."
   ]
  },
  {
   "cell_type": "code",
   "execution_count": 38,
   "metadata": {},
   "outputs": [],
   "source": [
    "tweets = []\n",
    "file_data = open('data/companies.json', 'r').read().split('\\n')\n",
    "\n",
    "for line in file_data:\n",
    "    try:\n",
    "        tweet = json.loads(line)\n",
    "        tweets.append(tweet)\n",
    "    except:\n",
    "        pass\n",
    "df_tweets = pd.DataFrame(tweets)"
   ]
  },
  {
   "cell_type": "code",
   "execution_count": 39,
   "metadata": {},
   "outputs": [],
   "source": [
    "results   = []\n",
    "companies = ['apple', 'microsoft', 'facebook']\n",
    "for company in companies:\n",
    "    df_tweets[company] = df_tweets['text'].str.contains(company, re.IGNORECASE)\n",
    "    results.append( (company, df_tweets[company].sum()) )\n",
    "df_results = pd.DataFrame(results, columns =['Company', 'Mentions'], index = companies)"
   ]
  },
  {
   "cell_type": "code",
   "execution_count": 40,
   "metadata": {},
   "outputs": [
    {
     "data": {
      "text/plain": [
       "<matplotlib.axes._subplots.AxesSubplot at 0x137c6bbe0>"
      ]
     },
     "execution_count": 40,
     "metadata": {},
     "output_type": "execute_result"
    },
    {
     "data": {
      "image/png": "[encoded data removed]",
      "text/plain": [
       "<matplotlib.figure.Figure at 0x137c4de80>"
      ]
     },
     "metadata": {},
     "output_type": "display_data"
    }
   ],
   "source": [
    "df_results.plot.bar()"
   ]
  },
  {
   "cell_type": "markdown",
   "metadata": {},
   "source": [
    "We also looked at how some of these companies were mentioned in the tweets."
   ]
  },
  {
   "cell_type": "code",
   "execution_count": 30,
   "metadata": {
    "collapsed": true
   },
   "outputs": [],
   "source": [
    "df_apple = df_tweets[df_tweets['apple']]\n",
    "df_ms    = df_tweets[df_tweets['microsoft']]\n",
    "df_fb    = df_tweets[df_tweets['facebook']]"
   ]
  },
  {
   "cell_type": "code",
   "execution_count": 34,
   "metadata": {},
   "outputs": [
    {
     "data": {
      "text/plain": [
       "array([ 'RT @nakedjuice: Start your day off with a mighty blend of orange, apple, cucumber, spinach, celery and a pinch of ginger. https://t.co/SG1P…',\n",
       "       'Toetsenbord iPhone 6S niet nauwkeurig - One More Thing https://t.co/5WWmKyFMuW #apple #iphone',\n",
       "       '&amp; now he’s watching me eat my damn apple😒\\U0001f928 ughhhh! https://t.co/swqghG0XIc',\n",
       "       'RT @WillTheHeat: @Drinkchamps we apple users finally got the infamous GIF https://t.co/qM2ILKIoXy',\n",
       "       'RT @zellie_bride: apple really played me by updating snapchat even after I turned off automatic updates'], dtype=object)"
      ]
     },
     "execution_count": 34,
     "metadata": {},
     "output_type": "execute_result"
    }
   ],
   "source": [
    "df_apple['text'].values[0:5]"
   ]
  },
  {
   "cell_type": "code",
   "execution_count": 35,
   "metadata": {},
   "outputs": [
    {
     "data": {
      "text/plain": [
       "array([ '@jomjamminiblog แล้วจะแบ่งยังไงถ้าคนเล่นทั้งทวิตเฟซใช้ microsoft samsung apple มีทั้งเสื้อผ้าร้านมุมทองและนิสิต คนแ… https://t.co/4NUurFuMwq',\n",
       "       'Access 7,000 Professional #PowerPoint #Slides with @SlideModel https://t.co/zJLJBfs6nE #speaking #presentations #microsoft',\n",
       "       '@dannybenning3 @esm_gill Mind sending me an email? Would love to help out. Piboggan@microsoft.com',\n",
       "       'The latest The Cloud Central! https://t.co/CjMjJE0OdE Thanks to @mjoseff @Cloud_Security1 @cloudficient #microsoft',\n",
       "       'Access 7,000 Professional #PowerPoint #Slides with SlideModel https://t.co/0OvUNzGJXB #speaking #presentations #microsoft zacjohnson'], dtype=object)"
      ]
     },
     "execution_count": 35,
     "metadata": {},
     "output_type": "execute_result"
    }
   ],
   "source": [
    "df_ms['text'].values[0:5]"
   ]
  },
  {
   "cell_type": "code",
   "execution_count": 36,
   "metadata": {},
   "outputs": [
    {
     "data": {
      "text/plain": [
       "array([ \"RT @meteoagres: Predicció especial de l'episodi a la meua pàgina del facebook.\\nDeixe l'enllaç: https://t.co/HMe3NAbnvv https://t.co/BBga9kj…\",\n",
       "       '無料■facebook＆twitter&amp;アメーバなう\\u3000告知力アップの連携技\\nhttps://t.co/LZuqFylm7o',\n",
       "       \"Check out Snore No More and Sleep Solutions LLC's facebook post https://t.co/LdzKIQbrCp via @\",\n",
       "       \"RT @danozzi: you're a punk dude over 30 choose your path:\\n\\n⚪️ crossfit\\n⚪️ barbershop culture\\n⚪️ craft beer\\n⚪️ mma\\n⚪️ facebook rants\\n⚪️ enam…\",\n",
       "       \"RT @novicinema: etkinliklerimizden ve paylaştığımız yazılardan anında haberdar olmak istiyorsanız, novicinema'yı  facebook üzerinden de tak…\"], dtype=object)"
      ]
     },
     "execution_count": 36,
     "metadata": {},
     "output_type": "execute_result"
    }
   ],
   "source": [
    "df_fb['text'].values[0:5]"
   ]
  },
  {
   "cell_type": "markdown",
   "metadata": {},
   "source": [
    "**Results**\n",
    "\n",
    "Based on our analysis, Facebook is being mentioned most in our Twitter sample, followed by Apple, then by Microsoft. However, in reading the tweets, we found that Apple mentions are often discussing the fruit. Microsoft mentions talk more about slides and communication with people in the company. Facebook mentions talk about related Facebook posts."
   ]
  },
  {
   "cell_type": "markdown",
   "metadata": {},
   "source": [
    "**Conclusion**\n",
    "\n",
    "We set out to find which company was the most popular. We used tweets we collected to get a sense of this. We found that Facebook was being tweeted most. However, many people were discussing other posts online. It may be the case that companies are being tweeted about, but it is not the case that people are discussing anything in particular about the companies themselves."
   ]
  }
 ],
 "metadata": {
  "anaconda-cloud": {},
  "kernelspec": {
   "display_name": "Python 3",
   "language": "python",
   "name": "python3"
  },
  "language_info": {
   "codemirror_mode": {
    "name": "ipython",
    "version": 3
   },
   "file_extension": ".py",
   "mimetype": "text/x-python",
   "name": "python",
   "nbconvert_exporter": "python",
   "pygments_lexer": "ipython3",
   "version": "3.6.3"
  }
 },
 "nbformat": 4,
 "nbformat_minor": 1
}
